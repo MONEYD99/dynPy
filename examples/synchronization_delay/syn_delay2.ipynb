{
 "cells": [
  {
   "cell_type": "markdown",
   "metadata": {},
   "source": [
    "### 并行版本"
   ]
  },
  {
   "cell_type": "code",
   "execution_count": 1,
   "metadata": {},
   "outputs": [],
   "source": [
    "import matplotlib.pyplot as plt\n",
    "import numpy as np\n",
    "from numba import njit, prange\n",
    "# 自定义函数\n",
    "from import_fun import HH_model, Euler, RK4, spikes_eval\n",
    "from import_fun import syn_chem_sigmoidal, create_sf\n",
    "from import_fun import delay\n",
    "from import_fun import cal_synFactor, return_synFactor"
   ]
  },
  {
   "cell_type": "code",
   "execution_count": 2,
   "metadata": {},
   "outputs": [],
   "source": [
    "@njit\n",
    "def net(N, method, dt, conn, tau):\n",
    "    t = 0.\n",
    "    \n",
    "    axis=[0]    # 需要加上外部激励的维度\n",
    "\n",
    "    # 创建节点\n",
    "    N_vars = 4      # 变量的数量\n",
    "    params_nodes = {\n",
    "        'g_Na': 120.,     # 钠离子通道的最大电导(mS/cm2)\n",
    "        'g_K': 36.,       # 钾离子通道的最大电导(mS/cm2)\n",
    "        'g_L': 0.3,      # 漏离子电导(mS/cm2)\n",
    "        'E_Na': 50.,      # 钠离子的平衡电位(mV)\n",
    "        'E_K': -77.,      # 钾离子的平衡电位(mV)\n",
    "        'E_L': -54.4,    # 漏离子的平衡电位(mV)\n",
    "        'Cm': 1.,       # 比膜电容(uF/cm2)\n",
    "        'Iex': 20.,       # 恒定的外部激励电流(uA/cm2)\n",
    "        \"temperature\": 6.3,     # 标准温度(℃) 实验温度为6.3\n",
    "    }\n",
    "    \n",
    "    # 模型变量的初始值\n",
    "    v0 = np.random.uniform(-.3, .3, N)\n",
    "    m0 = 1 * np.random.rand(N)\n",
    "    h0 = 1 * np.random.rand(N)\n",
    "    n0 = 1 * np.random.rand(N)\n",
    "    vars_nodes = np.vstack((v0, m0, h0, n0))\n",
    "\n",
    "    # 节点放电测量\n",
    "    th_up = 0      # 放电阈上值\n",
    "    th_down = -10  # 放电阈下值\n",
    "    flag = np.zeros(N, dtype=np.int32)           # 模型放电标志(>0, 放电)\n",
    "    flaglaunch = np.zeros(N, dtype=np.int32)     # 模型开始放电标志(==1, 放电刚刚开始)\n",
    "    firingTime = np.zeros(N)                # 记录放电时间(上次放电)\n",
    "\n",
    "    # 网络参数和变量\n",
    "    params_syn = {\n",
    "        \"e\": 0.,     # 化学突触的平衡电位(mV)\n",
    "        \"theta\": 0., # 放电阈值\n",
    "        \"epsi\": 7.,  # 放电下滑斜率\n",
    "    }\n",
    "    w = 0.1 * np.ones((N, N))\n",
    "\n",
    "    # 延迟参量\n",
    "    delayN = int(tau/dt)             # 延迟时长\n",
    "    k = 0                            # 指针位置\n",
    "    delay_list = np.zeros((N, delayN+1))      # 延迟存储矩阵\n",
    "\n",
    "    # 同步因子计算\n",
    "    count = 0  # 统计计算次数\n",
    "    # 初始化累加器\n",
    "    up1 = 0.\n",
    "    up2 = 0.\n",
    "    down1 = np.zeros(N)\n",
    "    down2 = np.zeros(N)\n",
    "\n",
    "\n",
    "    # 初始换节点\n",
    "    for _ in range(100_00):\n",
    "        I = np.zeros((N_vars, N))\n",
    "        I[0, :] = params_nodes[\"Iex\"]       \n",
    "        params_list = list(params_nodes.values())\n",
    "        method(HH_model, vars_nodes, t, dt, I, params_list)\n",
    "\n",
    "        spikes_eval(vars_nodes[0], t, th_up, th_down, flag, flaglaunch, firingTime)  # 放电测算\n",
    "\n",
    "        t += dt\n",
    "\n",
    "    # 初始化网络\n",
    "    for _ in range(500_00):\n",
    "        # 突触\n",
    "            # 触前和突触后的状态\n",
    "        pre_mem, k = delay(vars_nodes[0], k, delayN, delay_list)\n",
    "        pre_state = [pre_mem, firingTime, flaglaunch.astype(np.float64)]\n",
    "        post_state = [vars_nodes[0], firingTime, flaglaunch.astype(np.float64)]\n",
    "        params_list = list(params_syn.values())\n",
    "        I_post = syn_chem_sigmoidal(pre_state, post_state, w, conn, params_list)  # 突触后神经元接收的突触电流\n",
    "        \n",
    "        # 节点\n",
    "        I = np.zeros((N_vars, N))\n",
    "        I[0, :] = params_nodes[\"Iex\"] \n",
    "        # 更新 I 数组\n",
    "        for i in axis:\n",
    "            I[i, :] += I_post\n",
    "        params_list = list(params_nodes.values())\n",
    "        method(HH_model, vars_nodes, t, dt, I, params_list)\n",
    "\n",
    "        spikes_eval(vars_nodes[0], t, th_up, th_down, flag, flaglaunch, firingTime)  # 放电测算\n",
    "\n",
    "        t += dt\n",
    "\n",
    "    # mem = []\n",
    "    # time = []\n",
    "    cal_Tn = 2000_00\n",
    "    for _ in range(cal_Tn):\n",
    "        # 突触\n",
    "            # 触前和突触后的状态\n",
    "        pre_mem, k = delay(vars_nodes[0], k, delayN, delay_list)\n",
    "        pre_state = [pre_mem, firingTime, flaglaunch.astype(np.float64)]\n",
    "        post_state = [vars_nodes[0], firingTime, flaglaunch.astype(np.float64)]\n",
    "        params_list = list(params_syn.values())\n",
    "        I_post = syn_chem_sigmoidal(pre_state, post_state, w, conn, params_list)  # 突触后神经元接收的突触电流\n",
    "        \n",
    "        # 节点\n",
    "        I = np.zeros((N_vars, N))\n",
    "        I[0, :] = params_nodes[\"Iex\"] \n",
    "        # 更新 I 数组\n",
    "        for i in axis:\n",
    "            I[i, :] += I_post\n",
    "        params_list = list(params_nodes.values())\n",
    "        method(HH_model, vars_nodes, t, dt, I, params_list)\n",
    "\n",
    "        spikes_eval(vars_nodes[0], t, th_up, th_down, flag, flaglaunch, firingTime)  # 放电测算\n",
    "\n",
    "        t += dt\n",
    "\n",
    "        up1, up2, count = cal_synFactor(vars_nodes[0], up1, up2, down1, down2, count, cal_Tn)\n",
    "\n",
    "        # mem.append(vars_nodes[0].copy())\n",
    "        # time.append(t)\n",
    "\n",
    "    SFactor = return_synFactor(up1, up2, down1, down2, count, cal_Tn)\n",
    "\n",
    "    return SFactor"
   ]
  },
  {
   "cell_type": "code",
   "execution_count": 3,
   "metadata": {},
   "outputs": [],
   "source": [
    "@njit(parallel=True)\n",
    "def parallel_SFactor(tau_list, N, method, dt, conn):\n",
    "    n = len(tau_list)\n",
    "    SFactors = np.zeros(n)\n",
    "    for i in prange(n):\n",
    "        tau = tau_list[i]\n",
    "        SFactors[i] = net(N, method, dt, conn, tau)\n",
    "\n",
    "    return SFactors"
   ]
  },
  {
   "cell_type": "code",
   "execution_count": 4,
   "metadata": {},
   "outputs": [],
   "source": [
    "dt = 0.01\n",
    "method = Euler    # （\"euler\", \"rk4\"）\n",
    "N = 100\n",
    "# tau = 36\n",
    "conn = create_sf(n=N, n_init=5, n_add=2)\n",
    "tau_list = np.arange(0.01, 30, .5)"
   ]
  },
  {
   "cell_type": "code",
   "execution_count": 5,
   "metadata": {},
   "outputs": [],
   "source": [
    "# SFactor = net(N, method, dt, conn, tau)\n",
    "# SFactor"
   ]
  },
  {
   "cell_type": "code",
   "execution_count": 6,
   "metadata": {},
   "outputs": [],
   "source": [
    "SFactors = parallel_SFactor(tau_list, N, method, dt, conn)"
   ]
  },
  {
   "cell_type": "code",
   "execution_count": 7,
   "metadata": {},
   "outputs": [
    {
     "data": {
      "image/png": "[encoded data removed]",
      "text/plain": [
       "<Figure size 640x480 with 1 Axes>"
      ]
     },
     "metadata": {},
     "output_type": "display_data"
    }
   ],
   "source": [
    "plt.plot(tau_list, SFactors)\n",
    "plt.show()"
   ]
  },
  {
   "cell_type": "code",
   "execution_count": 8,
   "metadata": {},
   "outputs": [],
   "source": [
    "# plt.plot(time, mem)\n",
    "# plt.show()"
   ]
  }
 ],
 "metadata": {
  "kernelspec": {
   "display_name": "Python 3",
   "language": "python",
   "name": "python3"
  },
  "language_info": {
   "codemirror_mode": {
    "name": "ipython",
    "version": 3
   },
   "file_extension": ".py",
   "mimetype": "text/x-python",
   "name": "python",
   "nbconvert_exporter": "python",
   "pygments_lexer": "ipython3",
   "version": "3.11.9"
  }
 },
 "nbformat": 4,
 "nbformat_minor": 2
}
