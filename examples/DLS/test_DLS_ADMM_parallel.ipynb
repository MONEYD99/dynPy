{
 "cells": [
  {
   "cell_type": "markdown",
   "metadata": {},
   "source": [
    "#### 计算 DLS-ADMM 调整后的网络特征图谱"
   ]
  },
  {
   "cell_type": "code",
   "execution_count": 5,
   "metadata": {},
   "outputs": [],
   "source": [
    "import os\n",
    "import sys\n",
    "sys.path.append(r\"../../\")\n",
    "import copy\n",
    "import numpy as np\n",
    "import matplotlib.pyplot as plt\n",
    "from numba import njit, prange\n",
    "import random\n",
    "import pandas as pd\n",
    "# 自定义\n",
    "from base_mods import *\n",
    "from nodes.Lorenz import *\n",
    "from utils.DLS import *\n",
    "from connect.BA_scale_free import create_sf_jit, create_sf"
   ]
  },
  {
   "cell_type": "code",
   "execution_count": 6,
   "metadata": {},
   "outputs": [],
   "source": [
    "def Lorenz_DLS(seed=0):\n",
    "    np.random.seed(seed)\n",
    "    random.seed(seed)\n",
    "\n",
    "    N = 100\n",
    "    dt = 0.01\n",
    "    \n",
    "    t = 0.\n",
    "\n",
    "    # 节点参数\n",
    "    params_nodes = {\n",
    "        \"sigma\": 10.,\n",
    "        \"rho\": 28.,\n",
    "        \"beta\": 2.,\n",
    "    } \n",
    "    # 模型变量的初始值\n",
    "    x0 = np.random.rand(N)\n",
    "    y0 = np.random.rand(N)\n",
    "    z0 = np.random.rand(N)\n",
    "    vars_nodes = np.vstack((x0, y0, z0))\n",
    "\n",
    "    N_vars = 3  # 变量的数量\n",
    "\n",
    "    # 拓扑结构\n",
    "    degree = 4\n",
    "    connM = create_sf_jit(n=N, n_init=degree+1, n_add=int(degree/2), seed=seed)\n",
    "\n",
    "    # 权重\n",
    "    w = np.random.uniform(0, 1, (N, N))\n",
    "    \n",
    "    # 初始化节点\n",
    "    for i in range(100_00):\n",
    "        I = np.zeros((N_vars, N))\n",
    "        params_list = list(params_nodes.values())\n",
    "\n",
    "        RK4(Lorenz_model, vars_nodes, t, dt, I, params_list)\n",
    "\n",
    "        t += dt  # 时间前进\n",
    "\n",
    "    # 初始化网络\n",
    "    for i in range(200_00):\n",
    "        vj_vi = vars_nodes[1]-np.expand_dims(vars_nodes[1], axis=1)   # pre减post\n",
    "        Isyn = (w*connM*vj_vi).sum(axis=1)\n",
    "        I = np.zeros((N_vars, N))\n",
    "        I[0] += Isyn\n",
    "        params_list = list(params_nodes.values())\n",
    "\n",
    "        RK4(Lorenz_model, vars_nodes, t, dt, I, params_list)\n",
    "\n",
    "        t += dt  # 时间前进\n",
    "\n",
    "    # =================== 开始计算 ===================\n",
    "    t = 0.\n",
    "\n",
    "    for i in range(10_00):\n",
    "        vj_vi = vars_nodes[1]-np.expand_dims(vars_nodes[1], axis=1)   # pre减post\n",
    "        Isyn = (w*connM*vj_vi).sum(axis=1)\n",
    "        I = np.zeros((N_vars, N))\n",
    "        I[0] += Isyn\n",
    "        params_list = list(params_nodes.values())\n",
    "\n",
    "        RK4(Lorenz_model, vars_nodes, t, dt, I, params_list)\n",
    "\n",
    "        # mem.append(vars_nodes[0].copy())\n",
    "\n",
    "        t += dt  # 时间前进\n",
    "\n",
    "    # return mem\n",
    "\n",
    "    # 定义 DLS_ADMM 参数\n",
    "    local = np.arange(N)            # 网络学习部位（全部学习）\n",
    "    w_min = 0.                      # None\n",
    "    w_max = 5.\n",
    "    rho = 0.1\n",
    "    alpha = 0.1\n",
    "\n",
    "    P = np.full((len(local), N), alpha)\n",
    "    z = np.zeros((len(local), N))\n",
    "    mu = np.zeros((len(local), N))\n",
    "\n",
    "    # 使用 DLS\n",
    "    e_mems = []\n",
    "\n",
    "    Tn = 1000_00\n",
    "    for i in range(Tn):\n",
    "        vj_vi = vars_nodes[1]-np.expand_dims(vars_nodes[1], axis=1)   # pre减post\n",
    "        factor = connM*vj_vi\n",
    "        Isyn = (w*factor).sum(axis=1)\n",
    "        I = np.zeros((N_vars, N))\n",
    "        I[0] += Isyn\n",
    "        params_list = list(params_nodes.values())\n",
    "\n",
    "        RK4(Lorenz_model, vars_nodes, t, dt, I, params_list)\n",
    "        \n",
    "        if i % 100 < 30:\n",
    "            # 外部因素的输入值  (N_节点, N_节点/N_自定义)\n",
    "            factor_dt = factor * dt  # (N_节点, N_节点/N_自定义)\n",
    "\n",
    "            yMean = vars_nodes[0][local].mean()\n",
    "\n",
    "            # 最小二乘法差值(N_节点,)\n",
    "            error_input = vars_nodes[0] - yMean\n",
    "\n",
    "            DLS_jit(w, factor_dt, error_input, local, P)\n",
    "\n",
    "            update_admm(w, z, mu, rho, local, w_min, w_max)\n",
    "\n",
    "        e_mem = vars_nodes[0].std()\n",
    "        e_mems.append(e_mem)\n",
    "\n",
    "        t += dt  # 时间前进\n",
    "\n",
    "    return e_mems    "
   ]
  },
  {
   "cell_type": "code",
   "execution_count": 7,
   "metadata": {},
   "outputs": [],
   "source": [
    "e_mems = Lorenz_DLS()"
   ]
  },
  {
   "cell_type": "code",
   "execution_count": 8,
   "metadata": {},
   "outputs": [
    {
     "data": {
      "image/png": "[encoded data removed]",
      "text/plain": [
       "<Figure size 640x480 with 1 Axes>"
      ]
     },
     "metadata": {},
     "output_type": "display_data"
    }
   ],
   "source": [
    "plt.plot(e_mems)\n",
    "plt.show()"
   ]
  }
 ],
 "metadata": {
  "kernelspec": {
   "display_name": "Python 3",
   "language": "python",
   "name": "python3"
  },
  "language_info": {
   "codemirror_mode": {
    "name": "ipython",
    "version": 3
   },
   "file_extension": ".py",
   "mimetype": "text/x-python",
   "name": "python",
   "nbconvert_exporter": "python",
   "pygments_lexer": "ipython3",
   "version": "3.11.9"
  }
 },
 "nbformat": 4,
 "nbformat_minor": 2
}
